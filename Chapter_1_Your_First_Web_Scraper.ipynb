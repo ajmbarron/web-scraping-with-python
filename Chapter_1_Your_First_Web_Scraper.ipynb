{
  "nbformat": 4,
  "nbformat_minor": 0,
  "metadata": {
    "colab": {
      "name": "Chapter 1: Your First Web Scraper.ipynb",
      "provenance": [],
      "collapsed_sections": [],
      "authorship_tag": "ABX9TyOob1EZVABOVGOfAnxgbllo",
      "include_colab_link": true
    },
    "kernelspec": {
      "name": "python3",
      "display_name": "Python 3"
    }
  },
  "cells": [
    {
      "cell_type": "markdown",
      "metadata": {
        "id": "view-in-github",
        "colab_type": "text"
      },
      "source": [
        "<a href=\"https://colab.research.google.com/github/ajmbarron/web_scraping_with_python-/blob/main/Chapter_1_Your_First_Web_Scraper.ipynb\" target=\"_parent\"><img src=\"https://colab.research.google.com/assets/colab-badge.svg\" alt=\"Open In Colab\"/></a>"
      ]
    },
    {
      "cell_type": "code",
      "metadata": {
        "id": "Q8yNcdy7sb17"
      },
      "source": [
        "from urllib.request import urlopen\n",
        "from bs4 import BeautifulSoup"
      ],
      "execution_count": null,
      "outputs": []
    },
    {
      "cell_type": "code",
      "metadata": {
        "id": "1ABZSY8vtNuy",
        "colab": {
          "base_uri": "https://localhost:8080/"
        },
        "outputId": "1eb687b5-2e1d-4b10-b1f2-f9a1135c2611"
      },
      "source": [
        "html=urlopen('http://www.pythonscraping.com/pages/page1.html')\n",
        "bs=BeautifulSoup(html.read(), 'html.parser')\n",
        "print(bs.h1) # bs.html.body.h1, bs.body.h1, bs.html.h1"
      ],
      "execution_count": null,
      "outputs": [
        {
          "output_type": "stream",
          "text": [
            "<h1>An Interesting Title</h1>\n"
          ],
          "name": "stdout"
        }
      ]
    },
    {
      "cell_type": "code",
      "metadata": {
        "colab": {
          "base_uri": "https://localhost:8080/",
          "height": 129
        },
        "id": "01LMK-Zdw_ly",
        "outputId": "25383071-9a6f-4cc4-8750-14c00b085604"
      },
      "source": [
        "## connecting reliability and handling exceptions ##\n",
        "\n",
        "## first situation: page is not found in a server:\n",
        "\n",
        "from urllib.error import HTTPError\n",
        "\n",
        "try:\n",
        "  html=urlopen('http://www.pythonscraping.com/pages/page1.html')\n",
        "  except HTTPError as e:\n",
        "    print(e)\n",
        "    # return null, break, or do some other \"Plan B\"\n",
        "    else:\n",
        "      # program continues. Note: if you return or break in the \n",
        "      # exception catch, you do not need to use the \"else\" statement\n"
      ],
      "execution_count": null,
      "outputs": [
        {
          "output_type": "error",
          "ename": "SyntaxError",
          "evalue": "ignored",
          "traceback": [
            "\u001b[0;36m  File \u001b[0;32m\"<ipython-input-6-01fd3f2caa7e>\"\u001b[0;36m, line \u001b[0;32m9\u001b[0m\n\u001b[0;31m    except HTTPError as e:\u001b[0m\n\u001b[0m         ^\u001b[0m\n\u001b[0;31mSyntaxError\u001b[0m\u001b[0;31m:\u001b[0m invalid syntax\n"
          ]
        }
      ]
    },
    {
      "cell_type": "code",
      "metadata": {
        "colab": {
          "base_uri": "https://localhost:8080/"
        },
        "id": "SAIr_tXvx5AJ",
        "outputId": "1ff87bd8-1727-4770-e0c5-530752bd575d"
      },
      "source": [
        "# handle not found page and not server found\n",
        "\n",
        "from urllib.error import URLError\n",
        "from urllib.error import HTTPError\n",
        "\n",
        "try:\n",
        "  html=urlopen('http://www.pythonscraping.com/pages/page1.html')\n",
        "except HTTPError as e:   #not found page\n",
        "  print(e)\n",
        "except URLError as e:     #not found server\n",
        "  print('The server could not be found!')\n",
        "else:\n",
        "    print(\"It worked!\")\n",
        "\n"
      ],
      "execution_count": null,
      "outputs": [
        {
          "output_type": "stream",
          "text": [
            "It worked!\n"
          ],
          "name": "stdout"
        }
      ]
    },
    {
      "cell_type": "code",
      "metadata": {
        "colab": {
          "base_uri": "https://localhost:8080/",
          "height": 180
        },
        "id": "pKmw59B0yjNj",
        "outputId": "f0496133-1d02-46ec-8177-ac98f35a6037"
      },
      "source": [
        "# Note: the problem with a non-existing tag will return an AttributeError\n",
        "print(bs.nonExistent.someTag)\n",
        "\n"
      ],
      "execution_count": null,
      "outputs": [
        {
          "output_type": "error",
          "ename": "AttributeError",
          "evalue": "ignored",
          "traceback": [
            "\u001b[0;31m---------------------------------------------------------------------------\u001b[0m",
            "\u001b[0;31mAttributeError\u001b[0m                            Traceback (most recent call last)",
            "\u001b[0;32m<ipython-input-8-38b4b580a7b3>\u001b[0m in \u001b[0;36m<module>\u001b[0;34m()\u001b[0m\n\u001b[1;32m      1\u001b[0m \u001b[0;31m# Note: the problem with a non-existing tag will return an AttributeError\u001b[0m\u001b[0;34m\u001b[0m\u001b[0;34m\u001b[0m\u001b[0;34m\u001b[0m\u001b[0m\n\u001b[0;32m----> 2\u001b[0;31m \u001b[0mprint\u001b[0m\u001b[0;34m(\u001b[0m\u001b[0mbs\u001b[0m\u001b[0;34m.\u001b[0m\u001b[0mnonExistent\u001b[0m\u001b[0;34m.\u001b[0m\u001b[0msomeTag\u001b[0m\u001b[0;34m)\u001b[0m\u001b[0;34m\u001b[0m\u001b[0;34m\u001b[0m\u001b[0m\n\u001b[0m",
            "\u001b[0;31mAttributeError\u001b[0m: 'NoneType' object has no attribute 'someTag'"
          ]
        }
      ]
    },
    {
      "cell_type": "code",
      "metadata": {
        "colab": {
          "base_uri": "https://localhost:8080/"
        },
        "id": "fuLzk9Eyy8rp",
        "outputId": "dbce104e-77fa-4995-c39f-56687a531518"
      },
      "source": [
        "# Check if the tag exists, and if something exists inside it:\n",
        "\n",
        "try:\n",
        "  badContent=bs.nonExistent.anotherTag\n",
        "except AttributeError as e:\n",
        "    print('Tag was not found')\n",
        "else:\n",
        "    if badContent==None:\n",
        "      print('Tag was not found')\n",
        "    else:\n",
        "        print(badContent)\n"
      ],
      "execution_count": null,
      "outputs": [
        {
          "output_type": "stream",
          "text": [
            "Tag was not found\n"
          ],
          "name": "stdout"
        }
      ]
    },
    {
      "cell_type": "code",
      "metadata": {
        "id": "RxcfHlgP0uG5",
        "colab": {
          "base_uri": "https://localhost:8080/"
        },
        "outputId": "b2ceaed7-d147-47e6-d2e8-4d19076a89e5"
      },
      "source": [
        "## rewriting the block code\n",
        "\n",
        "### creating function getTitle which returns either the title of the page,\n",
        "### or a None object if there was a problem retrieving it.\n",
        "### if the server did not existe, html would be a None object, and html.read()\n",
        "## would throw an AttributeError.\n",
        "\n",
        "def getTitle(url):\n",
        "  try:\n",
        "    html=urlopen(url)\n",
        "  except HTTPError as e:\n",
        "    return None\n",
        "  try:\n",
        "    bs=BeautifulSoup(html.read(), 'html.parser')\n",
        "    title=bs.body.h1\n",
        "  except AttributeError as e:\n",
        "    return None\n",
        "  return title\n",
        "\n",
        "\n",
        "title=getTitle('https://www.salario.com.br/profissao/vitrificador-cbo-752420/')\n",
        "if title == None:\n",
        "  print('Title could not be found!')\n",
        "else:\n",
        "  print(title)"
      ],
      "execution_count": null,
      "outputs": [
        {
          "output_type": "stream",
          "text": [
            "Title could not be found!\n"
          ],
          "name": "stdout"
        }
      ]
    }
  ]
}