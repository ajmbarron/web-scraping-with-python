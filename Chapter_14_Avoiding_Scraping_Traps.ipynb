{
  "nbformat": 4,
  "nbformat_minor": 0,
  "metadata": {
    "colab": {
      "name": "Chapter 14: Avoiding Scraping Traps.ipynb",
      "provenance": [],
      "collapsed_sections": [],
      "toc_visible": true,
      "authorship_tag": "ABX9TyMWOJ8at97OlwkQ/P/g5HYa",
      "include_colab_link": true
    },
    "kernelspec": {
      "name": "python3",
      "display_name": "Python 3"
    },
    "language_info": {
      "name": "python"
    }
  },
  "cells": [
    {
      "cell_type": "markdown",
      "metadata": {
        "id": "view-in-github",
        "colab_type": "text"
      },
      "source": [
        "<a href=\"https://colab.research.google.com/github/ajmbarron/web_scraping_with_python-/blob/main/Chapter_14_Avoiding_Scraping_Traps.ipynb\" target=\"_parent\"><img src=\"https://colab.research.google.com/assets/colab-badge.svg\" alt=\"Open In Colab\"/></a>"
      ]
    },
    {
      "cell_type": "markdown",
      "metadata": {
        "id": "uro2lp4jwnyo"
      },
      "source": [
        "# Looking Like a Human #\n",
        "> Adjust Your Headers: HTTP Headers are lists of attributes, or preferences, sent by you every time you make a request to a web server."
      ]
    },
    {
      "cell_type": "code",
      "metadata": {
        "colab": {
          "base_uri": "https://localhost:8080/"
        },
        "id": "y5kZ0Rz_w0Lo",
        "outputId": "b83754a2-c2fb-4366-f498-7b76741628c8"
      },
      "source": [
        "import requests\n",
        "from bs4 import BeautifulSoup\n",
        "\n",
        "session = requests.Session()\n",
        "\n",
        "# These seven fields are consistently used by most major browsers \n",
        "headers = {'User-Agent':'Mozilla/5.0 (Macintosh; Intel Mac OS X 10_9_5)'\\\n",
        "           'AppleWebKit 537.36 (KHTML, like Gecko) Chrome',\n",
        "           'Accept':'text/html,application/xhtml+xml,application/xml;'\\\n",
        "           'q=0.9,image/webp,*/*;q=0.8'}\n",
        "\n",
        "# Note: this headers are easier to scrap: use it as an option\n",
        "\n",
        "# User-Agent: Mozilla/5.0 (iPhone; CPU iPhone OS 7_1_2 like Mac OS X)\n",
        "# AppleWebKit/537.51.2 (KHTML, like Gecko) Version/7.0 Mobile/11D257\n",
        "# Safari/9537.53\n",
        "\n",
        "url = 'https://www.whatismybrowser.com/'\\\n",
        "'developers/what-http-headers-is-my-browser-sending'\n",
        "req = session.get(url, headers=headers)\n",
        "\n",
        "bs = BeautifulSoup(req.text, 'html.parser')\n",
        "print(bs.find('table',{'class':'table-striped'}).get_text)"
      ],
      "execution_count": null,
      "outputs": [
        {
          "output_type": "stream",
          "text": [
            "<bound method Tag.get_text of <table class=\"table table-striped table-data\">\n",
            "<tr>\n",
            "<th>ACCEPT</th>\n",
            "<td>text/html,application/xhtml+xml,application/xml;q=0.9,image/webp,*/*;q=0.8</td>\n",
            "</tr>\n",
            "<tr>\n",
            "<th>ACCEPT-ENCODING</th>\n",
            "<td>gzip, deflate</td>\n",
            "</tr>\n",
            "<tr>\n",
            "<th>CONNECTION</th>\n",
            "<td>keep-alive</td>\n",
            "</tr>\n",
            "<tr>\n",
            "<th>HOST</th>\n",
            "<td>www.whatismybrowser.com</td>\n",
            "</tr>\n",
            "<tr>\n",
            "<th>USER-AGENT</th>\n",
            "<td>Mozilla/5.0 (Macintosh; Intel Mac OS X 10_9_5)AppleWebKit 537.36 (KHTML, like Gecko) Chrome</td>\n",
            "</tr>\n",
            "</table>>\n"
          ],
          "name": "stdout"
        }
      ]
    },
    {
      "cell_type": "markdown",
      "metadata": {
        "id": "ePIoLZsn5sf9"
      },
      "source": [
        "## Handling Cookies with JavaScript ##\n",
        "\n",
        "> View Cookies: see what data is being collected by the website you visit."
      ]
    },
    {
      "cell_type": "code",
      "metadata": {
        "colab": {
          "base_uri": "https://localhost:8080/"
        },
        "id": "TRVo70Yf7xw3",
        "outputId": "c62063ef-0989-4ca7-ac04-3463d7a16ecf"
      },
      "source": [
        "!apt-get update\n",
        "!apt install chromium-chromedriver\n",
        "!cp /usr/lib/chromium-browser/chromedriver /usr/bin\n",
        "\n",
        "!pip install selenium\n",
        "!pip install webdriver-manager\n",
        "\n",
        "from selenium import webdriver\n",
        "from selenium.webdriver.chrome.options import Options\n",
        "from webdriver_manager.chrome import ChromeDriverManager\n",
        "\n",
        "import time\n"
      ],
      "execution_count": null,
      "outputs": [
        {
          "output_type": "stream",
          "text": [
            "\r0% [Working]\r            \rIgn:1 https://developer.download.nvidia.com/compute/cuda/repos/ubuntu1804/x86_64  InRelease\n",
            "\r0% [Waiting for headers] [Waiting for headers] [Waiting for headers] [Waiting f\r                                                                               \rHit:2 https://cloud.r-project.org/bin/linux/ubuntu bionic-cran40/ InRelease\n",
            "\r0% [Waiting for headers] [Waiting for headers] [Waiting for headers] [Waiting f\r0% [2 InRelease gpgv 3,626 B] [Waiting for headers] [Waiting for headers] [Wait\r                                                                               \rHit:3 http://ppa.launchpad.net/c2d4u.team/c2d4u4.0+/ubuntu bionic InRelease\n",
            "\r0% [2 InRelease gpgv 3,626 B] [Waiting for headers] [Waiting for headers] [Conn\r                                                                               \rHit:4 http://archive.ubuntu.com/ubuntu bionic InRelease\n",
            "\r0% [2 InRelease gpgv 3,626 B] [Waiting for headers] [Waiting for headers] [Conn\r                                                                               \rGet:5 http://security.ubuntu.com/ubuntu bionic-security InRelease [88.7 kB]\n",
            "\r0% [2 InRelease gpgv 3,626 B] [Waiting for headers] [5 InRelease 14.2 kB/88.7 k\r                                                                               \rIgn:6 https://developer.download.nvidia.com/compute/machine-learning/repos/ubuntu1804/x86_64  InRelease\n",
            "\r0% [2 InRelease gpgv 3,626 B] [Waiting for headers] [5 InRelease 14.2 kB/88.7 k\r                                                                               \rHit:7 https://developer.download.nvidia.com/compute/cuda/repos/ubuntu1804/x86_64  Release\n",
            "\r0% [2 InRelease gpgv 3,626 B] [Waiting for headers] [5 InRelease 14.2 kB/88.7 k\r                                                                               \rHit:8 https://developer.download.nvidia.com/compute/machine-learning/repos/ubuntu1804/x86_64  Release\n",
            "Get:9 http://archive.ubuntu.com/ubuntu bionic-updates InRelease [88.7 kB]\n",
            "Hit:10 http://ppa.launchpad.net/cran/libgit2/ubuntu bionic InRelease\n",
            "Hit:11 http://ppa.launchpad.net/deadsnakes/ppa/ubuntu bionic InRelease\n",
            "Get:12 http://archive.ubuntu.com/ubuntu bionic-backports InRelease [74.6 kB]\n",
            "Hit:13 http://ppa.launchpad.net/graphics-drivers/ppa/ubuntu bionic InRelease\n",
            "Fetched 252 kB in 2s (108 kB/s)\n",
            "Reading package lists... Done\n",
            "Reading package lists... Done\n",
            "Building dependency tree       \n",
            "Reading state information... Done\n",
            "chromium-chromedriver is already the newest version (89.0.4389.82-0ubuntu0.18.04.1).\n",
            "0 upgraded, 0 newly installed, 0 to remove and 53 not upgraded.\n",
            "cp: '/usr/lib/chromium-browser/chromedriver' and '/usr/bin/chromedriver' are the same file\n",
            "Requirement already satisfied: selenium in /usr/local/lib/python3.7/dist-packages (3.141.0)\n",
            "Requirement already satisfied: urllib3 in /usr/local/lib/python3.7/dist-packages (from selenium) (1.24.3)\n",
            "Requirement already satisfied: webdriver-manager in /usr/local/lib/python3.7/dist-packages (3.3.0)\n",
            "Requirement already satisfied: requests in /usr/local/lib/python3.7/dist-packages (from webdriver-manager) (2.23.0)\n",
            "Requirement already satisfied: crayons in /usr/local/lib/python3.7/dist-packages (from webdriver-manager) (0.4.0)\n",
            "Requirement already satisfied: configparser in /usr/local/lib/python3.7/dist-packages (from webdriver-manager) (5.0.2)\n",
            "Requirement already satisfied: certifi>=2017.4.17 in /usr/local/lib/python3.7/dist-packages (from requests->webdriver-manager) (2020.12.5)\n",
            "Requirement already satisfied: chardet<4,>=3.0.2 in /usr/local/lib/python3.7/dist-packages (from requests->webdriver-manager) (3.0.4)\n",
            "Requirement already satisfied: urllib3!=1.25.0,!=1.25.1,<1.26,>=1.21.1 in /usr/local/lib/python3.7/dist-packages (from requests->webdriver-manager) (1.24.3)\n",
            "Requirement already satisfied: idna<3,>=2.5 in /usr/local/lib/python3.7/dist-packages (from requests->webdriver-manager) (2.10)\n",
            "Requirement already satisfied: colorama in /usr/local/lib/python3.7/dist-packages (from crayons->webdriver-manager) (0.4.4)\n"
          ],
          "name": "stdout"
        }
      ]
    },
    {
      "cell_type": "code",
      "metadata": {
        "colab": {
          "base_uri": "https://localhost:8080/"
        },
        "id": "9hAetRuB6uN2",
        "outputId": "d0b48c7d-b57e-4b47-c001-55ea1693731b"
      },
      "source": [
        "options = webdriver.ChromeOptions()\n",
        "options.add_argument('--headless')   # run webdriver in the background\n",
        "options.add_argument('--no-sandbox')\n",
        "options.add_argument('--disable-dev-shm-usage')\n",
        "\n",
        "driver = webdriver.Chrome('chromedriver', options=options)\n",
        "\n",
        "driver.get('https://elfinanciero.com.mx/')\n",
        "driver.implicitly_wait(1)\n",
        "print(driver.get_cookies())\n",
        "\n",
        "# To manipulate cookies you can call\n",
        "# delete_cookies, add_cookie() and delete_all_cookies()\n"
      ],
      "execution_count": null,
      "outputs": [
        {
          "output_type": "stream",
          "text": [
            "[{'domain': '.elfinanciero.com.mx', 'expiry': 1647906376, 'httpOnly': False, 'name': 'nvg54307', 'path': '/', 'secure': False, 'value': 'deb47e5304520cfa82ea3138b09|0_81'}, {'domain': '.elfinanciero.com.mx', 'expiry': 1624146376, 'httpOnly': False, 'name': '_fbp', 'path': '/', 'secure': False, 'value': 'fb.2.1616370376010.1775802263'}, {'domain': 'elfinanciero.com.mx', 'expiry': 1616372176, 'httpOnly': False, 'name': '_tb_sess_r', 'path': '/', 'secure': False, 'value': ''}, {'domain': '.elfinanciero.com.mx', 'expiry': 1616370435, 'httpOnly': False, 'name': '_gat_UA-425878-1', 'path': '/', 'secure': False, 'value': '1'}, {'domain': '.elfinanciero.com.mx', 'expiry': 1616370435, 'httpOnly': False, 'name': '_gat_UA-112838768-1', 'path': '/', 'secure': False, 'value': '1'}, {'domain': '.elfinanciero.com.mx', 'expiry': 1616456775, 'httpOnly': False, 'name': '_gid', 'path': '/', 'secure': False, 'value': 'GA1.3.1301999003.1616370376'}, {'domain': '.elfinanciero.com.mx', 'expiry': 1679442375, 'httpOnly': False, 'name': '_ga', 'path': '/', 'secure': False, 'value': 'GA1.3.110153363.1616370376'}, {'domain': 'elfinanciero.com.mx', 'expiry': 1618962375, 'httpOnly': False, 'name': 'ac_enable_tracking', 'path': '/', 'secure': False, 'value': '1'}]\n"
          ],
          "name": "stdout"
        }
      ]
    },
    {
      "cell_type": "markdown",
      "metadata": {
        "id": "4-2G4r-YQgR3"
      },
      "source": [
        "* Always try to space page load by a few seconds, this will prevent the site to block you.\n",
        "\n",
        "* Sometimes it is useful to slow down to go fast. \n"
      ]
    },
    {
      "cell_type": "code",
      "metadata": {
        "id": "xwl1ddY0Qsta"
      },
      "source": [
        "import time\n",
        "\n",
        "time.sleep(3)"
      ],
      "execution_count": null,
      "outputs": []
    },
    {
      "cell_type": "markdown",
      "metadata": {
        "id": "Zgom76FATeR3"
      },
      "source": [
        "* Selenium renders the page it visits, because of this it is able to distinguish between elements that are visually present on the page ad those that aren't.\n",
        "\n",
        "* The following code retrieves a page and looks for hidden links and form input fields."
      ]
    },
    {
      "cell_type": "code",
      "metadata": {
        "colab": {
          "base_uri": "https://localhost:8080/"
        },
        "id": "mxaOO8oUUPhf",
        "outputId": "029e2267-0956-4b08-f335-11180d4315cd"
      },
      "source": [
        "from selenium import webdriver\n",
        "from selenium.webdriver.remote.webelement import WebElement\n",
        "from selenium.webdriver.chrome.options import Options\n",
        "\n",
        "\n",
        "driver = webdriver.Chrome('chromedriver', options=options)\n",
        "\n",
        "driver.get('https://elfinanciero.com.mx/')\n",
        "\n",
        "links = driver.find_elements_by_tag_name('a')\n",
        "\n",
        "for link in links:\n",
        "    if not link.is_displayed():\n",
        "      print('The link {} is a trap'.format(link.get_attribute('href')))\n",
        "\n",
        "fields = driver.find_elements_by_tag_name('input')\n",
        "for field in fields:\n",
        "    if not field.is_displayed():\n",
        "         print('Do not change value of {}'.format(field.get_attribute('name')))\n",
        "\n"
      ],
      "execution_count": null,
      "outputs": [
        {
          "output_type": "stream",
          "text": [
            "The link None is a trap\n",
            "The link https://www.facebook.com/ElFinancieroMx is a trap\n",
            "The link https://twitter.com/ElFinanciero_Mx is a trap\n",
            "The link https://www.linkedin.com/company/90169/ is a trap\n",
            "The link https://www.instagram.com/elfinanciero_mx/ is a trap\n",
            "The link https://elfinanciero.com.mx/economia is a trap\n",
            "The link https://elfinanciero.com.mx/mercados is a trap\n",
            "The link https://elfinanciero.com.mx/opinion is a trap\n",
            "The link https://elfinanciero.com.mx/nacional is a trap\n",
            "The link https://elfinanciero.com.mx/estados is a trap\n",
            "The link https://elfinanciero.com.mx/tv is a trap\n",
            "The link None is a trap\n",
            "The link https://elfinanciero.com.mx/economia is a trap\n",
            "The link https://elfinanciero.com.mx/empresas is a trap\n",
            "The link https://elfinanciero.com.mx/mercados is a trap\n",
            "The link https://elfinanciero.com.mx/nacional is a trap\n",
            "The link https://elfinanciero.com.mx/estados is a trap\n",
            "The link https://elfinanciero.com.mx/opinion is a trap\n",
            "The link https://elfinanciero.com.mx/tv is a trap\n",
            "The link https://elfinanciero.com.mx/bloomberg-businessweek is a trap\n",
            "The link https://elfinanciero.com.mx/tech is a trap\n",
            "The link https://www.nacion321.com/ is a trap\n",
            "The link https://cupones.elfinanciero.com.mx/ is a trap\n",
            "The link https://elfinanciero.com.mx/mercados is a trap\n",
            "The link https://elfinanciero.com.mx/economia is a trap\n",
            "The link https://elfinanciero.com.mx/empresas is a trap\n",
            "The link https://elfinanciero.com.mx/bloomberg-businessweek is a trap\n",
            "The link https://elfinanciero.com.mx/mundo is a trap\n",
            "The link https://elfinanciero.com.mx/encuestas is a trap\n",
            "The link https://elfinanciero.com.mx/salud is a trap\n",
            "The link https://elfinanciero.com.mx/el-preguntario is a trap\n",
            "The link https://elfinanciero.com.mx/estilo is a trap\n",
            "The link https://elfinanciero.com.mx/mis-finanzas is a trap\n",
            "The link https://elfinanciero.com.mx/cultura is a trap\n",
            "The link https://elfinanciero.com.mx/deportes is a trap\n",
            "The link https://elfinanciero.com.mx/algarabia is a trap\n",
            "The link https://elfinanciero.com.mx/nacional is a trap\n",
            "The link https://elfinanciero.com.mx/cdmx is a trap\n",
            "The link https://elfinanciero.com.mx/peninsula is a trap\n",
            "The link https://elfinanciero.com.mx/monterrey is a trap\n",
            "The link https://elfinanciero.com.mx/edomex is a trap\n",
            "The link https://www.nacion321.com/ is a trap\n",
            "The link https://elfinanciero.com.mx/tv is a trap\n",
            "The link https://elfinanciero.com.mx/tv is a trap\n",
            "The link https://elfinanciero.com.mx/tv/al-cierre is a trap\n",
            "The link https://elfinanciero.com.mx/tv/la-nota-dura is a trap\n",
            "The link https://elfinanciero.com.mx/tv/la-silla-roja is a trap\n",
            "The link https://elfinanciero.com.mx/tv/en-ef-y-por-adela is a trap\n",
            "The link https://elfinanciero.com.mx/tech is a trap\n",
            "The link https://elfinanciero.com.mx/reflector is a trap\n",
            "The link https://elfinanciero.com.mx/ciencia is a trap\n",
            "The link https://elfinanciero.com.mx/interactivos is a trap\n",
            "The link https://elfinanciero.com.mx/inmobiliario is a trap\n",
            "The link https://elfinanciero.com.mx/autos is a trap\n",
            "The link https://elfinanciero.com.mx/viajes is a trap\n",
            "The link https://elfinanciero.com.mx/transporte-y-movilidad is a trap\n",
            "The link https://elfinanciero.com.mx/jalisco is a trap\n",
            "The link https://elfinanciero.com.mx/queretaro is a trap\n",
            "The link https://elfinanciero.com.mx/sonora is a trap\n",
            "The link https://elfinanciero.com.mx/sinaloa is a trap\n",
            "The link https://cupones.elfinanciero.com.mx/ is a trap\n",
            "The link https://elfinanciero.com.mx/mundo-empresa is a trap\n",
            "The link https://elfinanciero.com.mx/sponsor is a trap\n",
            "The link https://elfinanciero.com.mx/suplementos is a trap\n",
            "The link https://elfinanciero.com.mx/opinion is a trap\n",
            "The link https://elfinanciero.com.mx/opinion/enrique-quintana is a trap\n",
            "The link https://elfinanciero.com.mx/opinion/pablo-hiriart is a trap\n",
            "The link https://elfinanciero.com.mx/opinion/raymundo-riva-palacio is a trap\n",
            "The link https://elfinanciero.com.mx/opinion/lourdes-mendoza is a trap\n",
            "The link https://elfinanciero.com.mx/opinion/salvador-camarena is a trap\n",
            "The link https://elfinanciero.com.mx/opinion/jonathan-ruiz is a trap\n",
            "The link https://elfinanciero.com.mx/opinion/victor-piz is a trap\n",
            "The link https://elfinanciero.com.mx/opinion/jeanette-leyva is a trap\n",
            "The link https://elfinanciero.com.mx/opinion/javier-risco is a trap\n",
            "The link https://elfinanciero.com.mx/opinion/macario-schettino is a trap\n",
            "The link None is a trap\n",
            "The link https://suscripciones.elfinanciero.com.mx/ is a trap\n",
            "The link https://suscripciones.elfinanciero.com.mx/login is a trap\n",
            "The link https://elfinanciero.activehosted.com/f/1 is a trap\n",
            "The link https://suscripciones.elfinanciero.com.mx/ is a trap\n",
            "The link None is a trap\n",
            "The link https://itunes.apple.com/mx/app/el-financiero/id668730716?mt=8 is a trap\n",
            "The link https://play.google.com/store/apps/details?id=com.mx.grupolauman.elfinanciero is a trap\n",
            "The link https://appgallery.cloud.huawei.com/ag/n/app/C101017711 is a trap\n",
            "The link None is a trap\n",
            "The link https://www.facebook.com/ElFinancieroMx is a trap\n",
            "The link https://twitter.com/ElFinanciero_Mx is a trap\n",
            "The link https://www.linkedin.com/company/90169/ is a trap\n",
            "The link https://www.instagram.com/elfinanciero_mx/ is a trap\n",
            "The link https://suscripciones.elfinanciero.com.mx/ is a trap\n",
            "The link https://elfinanciero.com.mx/breaking is a trap\n",
            "The link https://elfinanciero.com.mx/twitter is a trap\n",
            "The link https://elfinanciero.com.mx/facebook is a trap\n",
            "The link https://elfinanciero.com.mx/whatsapp is a trap\n",
            "The link None is a trap\n",
            "The link None is a trap\n",
            "The link None is a trap\n",
            "The link https://elfinanciero.com.mx/opinion/enrique-quintana/hay-empleos-perdidos-que-ya-no-volveran is a trap\n",
            "The link https://elfinanciero.com.mx/opinion/dario-celis/asoma-primer-panel-en-el-t-mec is a trap\n",
            "The link https://elfinanciero.com.mx/opinion/raymundo-riva-palacio/vacunas-pero-portese-bien is a trap\n",
            "The link https://elfinanciero.com.mx/opinion/lourdes-mendoza/nos-van-a-subir-los-impuestos is a trap\n",
            "The link https://elfinanciero.com.mx/opinion/salvador-camarena/ahi-nos-dicen-que-se-oyen-lamentos is a trap\n",
            "The link https://elfinanciero.com.mx/opinion/victor-piz/la-reforma-electrica-a-consulta-popular is a trap\n",
            "The link https://elfinanciero.com.mx/opinion/atzayaelh-torres-energia-para-todos/gas-lp-de-regreso-al-control-de-precios is a trap\n",
            "The link https://elfinanciero.com.mx/opinion/jonathan-ruiz/ciudades-preparan-eliminacion-de-coches-a-gasolina is a trap\n",
            "The link https://elfinanciero.com.mx/opinion/jeanette-leyva/historias-de-complicidad-en-bancos is a trap\n",
            "The link https://elfinanciero.com.mx/opinion/alejandro-moreno/feligresia-en-declive is a trap\n",
            "The link https://elfinanciero.com.mx/opinion/macario-schettino/tragedia-farsa-locura is a trap\n",
            "The link https://elfinanciero.com.mx/opinion/rafael-fernandez-de-castro/vacunas-por-migrantes is a trap\n",
            "The link https://elfinanciero.com.mx/opinion/alberto-tovar/decide-con-un-criterio-de-eficiencia-y-rentabilidad is a trap\n",
            "The link https://elfinanciero.com.mx/opinion/edna-jaime/estado-civil-tensa-muy-tensa is a trap\n",
            "The link https://elfinanciero.com.mx/opinion/alejo-sanchez-cano/sheinbaum-castiga-a-habitantes-de-la-cdmx is a trap\n",
            "The link https://elfinanciero.com.mx/opinion/juan-ignacio-zavala/charrismo-4t is a trap\n",
            "The link https://elfinanciero.com.mx/opinion/raul-asis-monforte-gonzalez/litio-el-paraiso-sostenible-o-el-infierno-reciclado is a trap\n",
            "The link https://elfinanciero.com.mx/opinion/antonio-garci1/a-lo-practico is a trap\n",
            "The link None is a trap\n",
            "The link None is a trap\n",
            "The link https://elfinanciero.com.mx/opinion/enrique-quintana/hay-empleos-perdidos-que-ya-no-volveran is a trap\n",
            "The link https://elfinanciero.com.mx/opinion/dario-celis/asoma-primer-panel-en-el-t-mec is a trap\n",
            "The link https://elfinanciero.com.mx/opinion/raymundo-riva-palacio/vacunas-pero-portese-bien is a trap\n",
            "The link https://elfinanciero.com.mx/opinion/lourdes-mendoza/nos-van-a-subir-los-impuestos is a trap\n",
            "The link https://elfinanciero.com.mx/opinion/salvador-camarena/ahi-nos-dicen-que-se-oyen-lamentos is a trap\n",
            "The link https://elfinanciero.com.mx/opinion/victor-piz/la-reforma-electrica-a-consulta-popular is a trap\n",
            "The link https://elfinanciero.com.mx/opinion/atzayaelh-torres-energia-para-todos/gas-lp-de-regreso-al-control-de-precios is a trap\n",
            "The link https://elfinanciero.com.mx/opinion/jonathan-ruiz/ciudades-preparan-eliminacion-de-coches-a-gasolina is a trap\n",
            "The link https://elfinanciero.com.mx/opinion/jeanette-leyva/historias-de-complicidad-en-bancos is a trap\n",
            "The link https://elfinanciero.com.mx/opinion/alejandro-moreno/feligresia-en-declive is a trap\n",
            "The link https://elfinanciero.com.mx/opinion/macario-schettino/tragedia-farsa-locura is a trap\n",
            "The link https://elfinanciero.com.mx/opinion/rafael-fernandez-de-castro/vacunas-por-migrantes is a trap\n",
            "The link https://elfinanciero.com.mx/opinion/alberto-tovar/decide-con-un-criterio-de-eficiencia-y-rentabilidad is a trap\n",
            "The link https://elfinanciero.com.mx/opinion/edna-jaime/estado-civil-tensa-muy-tensa is a trap\n",
            "The link https://elfinanciero.com.mx/opinion/alejo-sanchez-cano/sheinbaum-castiga-a-habitantes-de-la-cdmx is a trap\n",
            "The link https://elfinanciero.com.mx/opinion/juan-ignacio-zavala/charrismo-4t is a trap\n",
            "The link https://elfinanciero.com.mx/opinion/raul-asis-monforte-gonzalez/litio-el-paraiso-sostenible-o-el-infierno-reciclado is a trap\n",
            "The link https://elfinanciero.com.mx/opinion/antonio-garci1/a-lo-practico is a trap\n",
            "The link None is a trap\n",
            "The link None is a trap\n",
            "The link None is a trap\n",
            "The link None is a trap\n",
            "The link None is a trap\n",
            "The link None is a trap\n",
            "The link None is a trap\n",
            "The link None is a trap\n",
            "The link None is a trap\n",
            "The link None is a trap\n",
            "The link None is a trap\n",
            "The link None is a trap\n",
            "The link None is a trap\n",
            "The link None is a trap\n",
            "The link None is a trap\n",
            "The link None is a trap\n",
            "The link None is a trap\n",
            "The link None is a trap\n",
            "The link https://elfinanciero.com.mx/opinion/enrique-quintana/hay-empleos-perdidos-que-ya-no-volveran is a trap\n",
            "The link https://elfinanciero.com.mx/opinion/dario-celis/asoma-primer-panel-en-el-t-mec is a trap\n",
            "The link https://elfinanciero.com.mx/opinion/salvador-camarena/ahi-nos-dicen-que-se-oyen-lamentos is a trap\n",
            "The link https://elfinanciero.com.mx/opinion/victor-piz/la-reforma-electrica-a-consulta-popular is a trap\n",
            "The link https://elfinanciero.com.mx/opinion/atzayaelh-torres-energia-para-todos/gas-lp-de-regreso-al-control-de-precios is a trap\n",
            "The link https://elfinanciero.com.mx/opinion/jonathan-ruiz/ciudades-preparan-eliminacion-de-coches-a-gasolina is a trap\n",
            "The link https://elfinanciero.com.mx/opinion/jeanette-leyva/historias-de-complicidad-en-bancos is a trap\n",
            "The link https://elfinanciero.com.mx/opinion/alejandro-moreno/feligresia-en-declive is a trap\n",
            "The link https://elfinanciero.com.mx/opinion/macario-schettino/tragedia-farsa-locura is a trap\n",
            "The link https://elfinanciero.com.mx/opinion/rafael-fernandez-de-castro/vacunas-por-migrantes is a trap\n",
            "The link https://elfinanciero.com.mx/opinion/alberto-tovar/decide-con-un-criterio-de-eficiencia-y-rentabilidad is a trap\n",
            "The link https://elfinanciero.com.mx/opinion/edna-jaime/estado-civil-tensa-muy-tensa is a trap\n",
            "The link https://elfinanciero.com.mx/opinion/alejo-sanchez-cano/sheinbaum-castiga-a-habitantes-de-la-cdmx is a trap\n",
            "The link https://elfinanciero.com.mx/opinion/juan-ignacio-zavala/charrismo-4t is a trap\n",
            "The link https://elfinanciero.com.mx/opinion/raul-asis-monforte-gonzalez/litio-el-paraiso-sostenible-o-el-infierno-reciclado is a trap\n",
            "The link https://elfinanciero.com.mx/opinion/antonio-garci1/a-lo-practico is a trap\n",
            "The link https://elfinanciero.com.mx/mundo/finlandia-defiende-su-titulo-como-el-pais-mas-feliz-del-mundo is a trap\n",
            "The link https://elfinanciero.com.mx/mundo/finlandia-defiende-su-titulo-como-el-pais-mas-feliz-del-mundo is a trap\n",
            "The link https://elfinanciero.com.mx/mundo/gran-trabajo-de-cuba-ya-tiene-2-vacunas-covid-en-fase-3-y-preve-inmunizar-a-toda-la-isla-en-agosto is a trap\n",
            "The link https://elfinanciero.com.mx/mundo/gran-trabajo-de-cuba-ya-tiene-2-vacunas-covid-en-fase-3-y-preve-inmunizar-a-toda-la-isla-en-agosto is a trap\n",
            "The link https://elfinanciero.com.mx/empresas/oxxo-paga-por-tienda-14-052-pesos-de-luz-al-mes is a trap\n",
            "The link https://elfinanciero.com.mx/empresas/oxxo-paga-por-tienda-14-052-pesos-de-luz-al-mes is a trap\n",
            "The link https://elfinanciero.com.mx/tech/por-que-los-chips-de-computadora-son-como-papel-de-bano-y-gasolina is a trap\n",
            "The link https://elfinanciero.com.mx/tech/por-que-los-chips-de-computadora-son-como-papel-de-bano-y-gasolina is a trap\n",
            "The link https://elfinanciero.com.mx/cdmx/sentimos-mucho-el-inconveniente-el-c5-se-disculpa-tras-falsa-alerta-sismica is a trap\n",
            "The link https://elfinanciero.com.mx/cdmx/sentimos-mucho-el-inconveniente-el-c5-se-disculpa-tras-falsa-alerta-sismica is a trap\n",
            "The link https://elfinanciero.com.mx/mundo/eu-esta-listo-para-luchar-esta-noche-dice-secretario-de-la-defensa-a-corea-del-norte is a trap\n",
            "The link https://elfinanciero.com.mx/mundo/eu-esta-listo-para-luchar-esta-noche-dice-secretario-de-la-defensa-a-corea-del-norte is a trap\n",
            "The link https://elfinanciero.com.mx/nacional/padres-de-familia-exigen-regreso-a-clases-presenciales-con-hashtag-abremiescuela is a trap\n",
            "The link https://elfinanciero.com.mx/nacional/edad-para-recibir-pension-de-adultos-mayores-bajara-de-68-a-65-anos-anuncia-amlo is a trap\n",
            "The link https://elfinanciero.com.mx/economia/hacienda-realiza-permuta-de-valores-gubernamentales-por-15-682-mdp is a trap\n",
            "The link https://elfinanciero.com.mx/economia/ahorro-bruto-cae-13-84-en-2020-es-su-mayor-descenso-en-la-historia is a trap\n",
            "The link https://elfinanciero.com.mx/tech/whatsapp-e-instagram-colapsan-y-dejan-sin-servicio-a-millones-de-usuarios is a trap\n",
            "The link https://elfinanciero.com.mx/tech/whatsapp-cambiara-su-politica-de-privacidad-en-mayo-y-mostrara-un-banner-en-chats-para-explicarte is a trap\n",
            "The link https://elfinanciero.com.mx/salud/salud-aplica-195-700-nuevas-dosis-de-vacuna-covid-total-llega-a-5-millones-459-014 is a trap\n",
            "The link https://elfinanciero.com.mx/salud/salud-reporta-608-nuevas-muertes-por-covid-19-total-llega-a-197-827 is a trap\n",
            "The link https://elfinanciero.com.mx/mundo/se-agrava-conflicto-por-vacunas-ue-se-apresta-a-bloquear-exportaciones-de-astrazeneca-a-inglaterra is a trap\n",
            "The link https://elfinanciero.com.mx/mundo/la-situacion-es-insostenible-francia-es-azotada-por-tercera-ola-de-covid is a trap\n",
            "The link https://elfinanciero.com.mx/cdmx/falsa-alerta-sismica-fue-por-falla-en-sistema-que-reproduce-sonido-aclara-el-c5 is a trap\n",
            "The link https://elfinanciero.com.mx/cdmx/sentimos-mucho-el-inconveniente-el-c5-se-disculpa-tras-falsa-alerta-sismica is a trap\n",
            "The link https://elfinanciero.com.mx/empresas/oxxo-paga-por-tienda-14-052-pesos-de-luz-al-mes is a trap\n",
            "The link https://elfinanciero.com.mx/empresas/alejandro-del-valle-descarta-vender-interjet-a-inversionistas-que-plantearon-cubrir-pasivos-y-adeudos is a trap\n",
            "The link https://elfinanciero.com.mx/deportes/es-oficial-juegos-de-tokio-no-permitiran-espectadores-extranjeros is a trap\n",
            "The link https://elfinanciero.com.mx/deportes/comienza-la-vacunacion-contra-covid-para-atletas-mexicanos is a trap\n",
            "The link https://www.elfinanciero.com.mx/ is a trap\n",
            "Do not change value of \n"
          ],
          "name": "stdout"
        }
      ]
    }
  ]
}